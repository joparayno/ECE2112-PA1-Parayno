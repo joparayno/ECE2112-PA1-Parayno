{
 "cells": [
  {
   "cell_type": "markdown",
   "id": "c13ad160",
   "metadata": {},
   "source": [
    "# ALPHABET SOUP PROBLEM"
   ]
  },
  {
   "cell_type": "code",
   "execution_count": 1,
   "id": "2be49ff6",
   "metadata": {},
   "outputs": [
    {
     "name": "stdout",
     "output_type": "stream",
     "text": [
      "Enter word: hello\n",
      "Output: ehllo\n"
     ]
    }
   ],
   "source": [
    "word = input(\"Enter word: \")\n",
    "\n",
    "def alphabet_soup(word):\n",
    "    alphabets = list(word.strip())\n",
    "    alphabets.sort(key = str.lower)\n",
    "    print(\"Output: \" + \"\".join(alphabets))\n",
    "    \n",
    "alphabet_soup(word)"
   ]
  },
  {
   "cell_type": "markdown",
   "id": "9ed3afa6",
   "metadata": {},
   "source": [
    "# EMOTICON PROBLEM"
   ]
  },
  {
   "cell_type": "code",
   "execution_count": 2,
   "id": "b5a7238f",
   "metadata": {},
   "outputs": [
    {
     "name": "stdout",
     "output_type": "stream",
     "text": [
      "Your message: smile grin sad mad\n",
      "Output: :) :D :(( >:(\n"
     ]
    }
   ],
   "source": [
    "sentence = input(\"Your message: \")\n",
    "\n",
    "def emotify(sentence):\n",
    "    words = sentence.split()\n",
    "    emoticon = {\n",
    "        \"smile\": \":)\",\n",
    "        \"grin\": \":D\",\n",
    "        \"sad\": \":((\",\n",
    "        \"mad\": \">:(\"   \n",
    "    }\n",
    "    \n",
    "    for i, x in enumerate(words):\n",
    "        if x in emoticon:\n",
    "            words[i] = emoticon[x]\n",
    "            \n",
    "    print(\"Output: \" + \" \".join(words))\n",
    "    \n",
    "emotify(sentence)"
   ]
  },
  {
   "cell_type": "markdown",
   "id": "7ac4b756",
   "metadata": {},
   "source": [
    "# UNPACKING LIST PROBLEM"
   ]
  },
  {
   "cell_type": "code",
   "execution_count": 3,
   "id": "893528ea",
   "metadata": {},
   "outputs": [
    {
     "name": "stdout",
     "output_type": "stream",
     "text": [
      "First:  1\n",
      "Middle: [2, 3, 4, 5]\n",
      "Last:  6\n"
     ]
    }
   ],
   "source": [
    "lst = [1, 2, 3, 4, 5, 6]\n",
    "\n",
    "first = lst[0]\n",
    "middle = lst[1:-1]\n",
    "last = lst[-1]\n",
    "\n",
    "print(\"First: \", first)\n",
    "print(\"Middle:\", middle)\n",
    "print(\"Last: \", last)"
   ]
  },
  {
   "cell_type": "code",
   "execution_count": null,
   "id": "620f5e05",
   "metadata": {},
   "outputs": [],
   "source": []
  }
 ],
 "metadata": {
  "kernelspec": {
   "display_name": "Python 3 (ipykernel)",
   "language": "python",
   "name": "python3"
  },
  "language_info": {
   "codemirror_mode": {
    "name": "ipython",
    "version": 3
   },
   "file_extension": ".py",
   "mimetype": "text/x-python",
   "name": "python",
   "nbconvert_exporter": "python",
   "pygments_lexer": "ipython3",
   "version": "3.11.4"
  }
 },
 "nbformat": 4,
 "nbformat_minor": 5
}
